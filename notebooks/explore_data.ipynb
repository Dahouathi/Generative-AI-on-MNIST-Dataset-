{
 "cells": [
  {
   "cell_type": "code",
   "execution_count": 47,
   "metadata": {},
   "outputs": [],
   "source": [
    "import scipy as sp\n",
    "import numpy as np\n",
    "import matplotlib.pyplot as plt\n"
   ]
  },
  {
   "cell_type": "markdown",
   "metadata": {},
   "source": [
    "## Exploring Data"
   ]
  },
  {
   "cell_type": "code",
   "execution_count": 40,
   "metadata": {},
   "outputs": [],
   "source": [
    "data_path = '../data/binary_alpha_digits/binaryalphadigs.mat'\n",
    "data = sp.io.loadmat(data_path)"
   ]
  },
  {
   "cell_type": "code",
   "execution_count": 41,
   "metadata": {},
   "outputs": [
    {
     "data": {
      "text/plain": [
       "dict_keys(['__header__', '__version__', '__globals__', 'dat', 'numclass', 'classlabels', 'classcounts'])"
      ]
     },
     "execution_count": 41,
     "metadata": {},
     "output_type": "execute_result"
    }
   ],
   "source": [
    "data.keys()"
   ]
  },
  {
   "cell_type": "code",
   "execution_count": 78,
   "metadata": {},
   "outputs": [
    {
     "data": {
      "text/plain": [
       "((36, 39), (20, 16))"
      ]
     },
     "execution_count": 78,
     "metadata": {},
     "output_type": "execute_result"
    }
   ],
   "source": [
    "data['dat'].shape, data['dat'][0, 0].shape"
   ]
  },
  {
   "cell_type": "code",
   "execution_count": 73,
   "metadata": {},
   "outputs": [
    {
     "data": {
      "image/png": "[encoded data removed]",
      "text/plain": [
       "<Figure size 800x800 with 36 Axes>"
      ]
     },
     "metadata": {},
     "output_type": "display_data"
    }
   ],
   "source": [
    "# Binary 20x16 digits of \"0\" through \"9\" and capital \"A\" through \"Z\". 39 examples of each class.\n",
    "alpha_digits = data['dat']\n",
    "# Plot The zeroth digit of the class zero\n",
    "fig, ax = plt.subplots(6,6, figsize=(8,8))\n",
    "# Remove space between figures\n",
    "#plt.subplots_adjust(wspace=0, hspace=0)\n",
    "\n",
    "for i in range(6):\n",
    "    for j in range(6):\n",
    "        ax[i,j].imshow(alpha_digits[i*6+j,0])\n",
    "        ax[i, j].axis('off')\n",
    "plt.show()"
   ]
  },
  {
   "cell_type": "code",
   "execution_count": 79,
   "metadata": {},
   "outputs": [],
   "source": [
    "def lire_alpha_digit(data_path: str, indices=None):\n",
    "    \"\"\"\n",
    "    :param data_path: path to import data\n",
    "    :param indices: index of alpha digits we want to use for training\n",
    "    :return: array (n, p): n number of sample, p number of pixels\n",
    "    \"\"\"\n",
    "    data = sp.io.loadmat(data_path, simplify_cells=True)\n",
    "    alpha_digits = data['dat']\n",
    "    \n",
    "    if indices is not None:\n",
    "        alpha_digits = alpha_digits[indices]\n",
    "    \n",
    "    images = np.zeros((alpha_digits.size, alpha_digits[0, 0].size))\n",
    "    im = 0  # image index\n",
    "    for i in range(alpha_digits.shape[0]):\n",
    "        for j in range(alpha_digits.shape[1]):\n",
    "            images[im, :] = alpha_digits[i, j].flatten()\n",
    "            im += 1\n",
    "\n",
    "    return images"
   ]
  },
  {
   "cell_type": "code",
   "execution_count": 81,
   "metadata": {},
   "outputs": [
    {
     "data": {
      "text/plain": [
       "(390, 320)"
      ]
     },
     "execution_count": 81,
     "metadata": {},
     "output_type": "execute_result"
    }
   ],
   "source": [
    "alpha_digits = lire_alpha_digit(data_path,np.array([0,1,2,3,4,5,6,7,8,9]))\n",
    "alpha_digits.shape"
   ]
  },
  {
   "cell_type": "code",
   "execution_count": 84,
   "metadata": {},
   "outputs": [],
   "source": [
    "data_mnist_path = '../data/MNIST/mnist_all.mat'\n",
    "data = sp.io.loadmat(data_mnist_path)"
   ]
  },
  {
   "cell_type": "code",
   "execution_count": 85,
   "metadata": {},
   "outputs": [
    {
     "data": {
      "text/plain": [
       "dict_keys(['__header__', '__version__', '__globals__', 'train0', 'test0', 'train1', 'test1', 'train2', 'test2', 'train3', 'test3', 'train4', 'test4', 'train5', 'test5', 'train6', 'test6', 'train7', 'test7', 'train8', 'test8', 'train9', 'test9'])"
      ]
     },
     "execution_count": 85,
     "metadata": {},
     "output_type": "execute_result"
    }
   ],
   "source": [
    "data.keys()"
   ]
  },
  {
   "cell_type": "code",
   "execution_count": 86,
   "metadata": {},
   "outputs": [
    {
     "data": {
      "text/plain": [
       "(5923, 784)"
      ]
     },
     "execution_count": 86,
     "metadata": {},
     "output_type": "execute_result"
    }
   ],
   "source": [
    "data['train0'].shape"
   ]
  },
  {
   "cell_type": "code",
   "execution_count": 23,
   "metadata": {},
   "outputs": [
    {
     "data": {
      "image/png": "[encoded data removed]",
      "text/plain": [
       "<Figure size 640x480 with 1 Axes>"
      ]
     },
     "metadata": {},
     "output_type": "display_data"
    }
   ],
   "source": [
    "\n",
    "# Access the loaded data\n",
    "mnist_data = data['train0']\n",
    "\n",
    "# Visualize the first image\n",
    "plt.imshow(mnist_data[0].reshape(28,28), cmap='gray') # Reshape it\n",
    "plt.axis('off')\n",
    "plt.show()\n"
   ]
  },
  {
   "cell_type": "code",
   "execution_count": 31,
   "metadata": {},
   "outputs": [],
   "source": [
    "def plot_digit(mnist_data, i=0):\n",
    "    # Visualize the first image\n",
    "    plt.imshow(mnist_data[i].reshape(28,28), cmap='gray')\n",
    "    plt.axis('off')\n",
    "    plt.show()"
   ]
  },
  {
   "cell_type": "code",
   "execution_count": 26,
   "metadata": {},
   "outputs": [],
   "source": [
    "def lire_mnist(data_path: str, indices: np.ndarray, data_type: str, thrshold: int = 127):\n",
    "    \"\"\"\n",
    "    :param data_path: path to import data\n",
    "    :param indices: index of alpha digits we want to use for training\n",
    "    :param data_type: \"train\", \"test\"\n",
    "    :param thrshold: threshold to binarize the images\n",
    "    :return: array (n, p): n number of sample, p number of pixels\n",
    "    \"\"\"\n",
    "    mnist_all = sp.io.loadmat(data_path, simplify_cells=True)\n",
    "\n",
    "    data_mnist = []\n",
    "    label = []\n",
    "    for i in indices:\n",
    "        key = data_type + str(i)\n",
    "        data_mnist.append((mnist_all[key] > thrshold).astype(int))\n",
    "        label.append(i * np.ones(mnist_all[key].shape[0]))\n",
    "\n",
    "    data_mnist = np.vstack(data_mnist)\n",
    "    label = np.concatenate(label, axis=0)\n",
    "\n",
    "    return data_mnist, label"
   ]
  },
  {
   "cell_type": "code",
   "execution_count": 27,
   "metadata": {},
   "outputs": [],
   "source": [
    "data_mnist, label = lire_mnist(data_path, np.arange(2), \"train\")"
   ]
  },
  {
   "cell_type": "code",
   "execution_count": 34,
   "metadata": {},
   "outputs": [
    {
     "name": "stdout",
     "output_type": "stream",
     "text": [
      "(12665, 784) (12665,)\n"
     ]
    },
    {
     "data": {
      "image/png": "[encoded data removed]",
      "text/plain": [
       "<Figure size 640x480 with 1 Axes>"
      ]
     },
     "metadata": {},
     "output_type": "display_data"
    },
    {
     "data": {
      "image/png": "[encoded data removed]",
      "text/plain": [
       "<Figure size 640x480 with 1 Axes>"
      ]
     },
     "metadata": {},
     "output_type": "display_data"
    }
   ],
   "source": [
    "print(data_mnist.shape, label.shape)\n",
    "plot_digit(data_mnist, 8000)\n",
    "plot_digit(data_mnist, 0)"
   ]
  },
  {
   "cell_type": "code",
   "execution_count": 35,
   "metadata": {},
   "outputs": [],
   "source": [
    "def lire_alpha_digit(data_path: str, indices=None):\n",
    "    \"\"\"\n",
    "    :param data_path: path to import data\n",
    "    :param indices: index of alpha digits we want to use for training\n",
    "    :return: array (n, p): n number of sample, p number of pixels\n",
    "    \"\"\"\n",
    "    mat = sp.io.loadmat(data_path, simplify_cells=True)\n",
    "    bad = mat[\"dat\"][indices, :]\n",
    "    images = np.zeros((bad.size, bad[0, 0].size))\n",
    "    im = 0  # image index\n",
    "    for i in range(bad.shape[0]):\n",
    "        for j in range(bad.shape[1]):\n",
    "            images[im, :] = bad[i, j].flatten()\n",
    "            im += 1\n",
    "\n",
    "    return images"
   ]
  },
  {
   "cell_type": "code",
   "execution_count": 37,
   "metadata": {},
   "outputs": [],
   "source": [
    "mat = sp.io.loadmat(data_path, simplify_cells=True)"
   ]
  },
  {
   "cell_type": "code",
   "execution_count": 39,
   "metadata": {},
   "outputs": [
    {
     "ename": "KeyError",
     "evalue": "'dat'",
     "output_type": "error",
     "traceback": [
      "\u001b[0;31m---------------------------------------------------------------------------\u001b[0m",
      "\u001b[0;31mKeyError\u001b[0m                                  Traceback (most recent call last)",
      "Cell \u001b[0;32mIn[39], line 1\u001b[0m\n\u001b[0;32m----> 1\u001b[0m \u001b[43mmat\u001b[49m\u001b[43m[\u001b[49m\u001b[38;5;124;43m'\u001b[39;49m\u001b[38;5;124;43mdat\u001b[39;49m\u001b[38;5;124;43m'\u001b[39;49m\u001b[43m]\u001b[49m\n",
      "\u001b[0;31mKeyError\u001b[0m: 'dat'"
     ]
    }
   ],
   "source": [
    "mat['dat']"
   ]
  },
  {
   "cell_type": "code",
   "execution_count": null,
   "metadata": {},
   "outputs": [],
   "source": []
  }
 ],
 "metadata": {
  "kernelspec": {
   "display_name": "Python 3 (ipykernel)",
   "language": "python",
   "name": "python3"
  },
  "language_info": {
   "codemirror_mode": {
    "name": "ipython",
    "version": 3
   },
   "file_extension": ".py",
   "mimetype": "text/x-python",
   "name": "python",
   "nbconvert_exporter": "python",
   "pygments_lexer": "ipython3",
   "version": "3.9.7"
  }
 },
 "nbformat": 4,
 "nbformat_minor": 2
}
