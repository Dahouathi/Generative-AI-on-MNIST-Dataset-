{
 "cells": [
  {
   "cell_type": "code",
   "execution_count": 2,
   "metadata": {},
   "outputs": [],
   "source": [
    "import sys\n",
    "sys.path.insert(0, '../')  # Notebook is in the 'notebook' directory\n",
    "from src.data_utils import lire_alpha_digit\n",
    "import numpy as np\n",
    "from matplotlib import pyplot as plt"
   ]
  },
  {
   "cell_type": "code",
   "execution_count": 19,
   "metadata": {},
   "outputs": [],
   "source": [
    "\n",
    "def init_RBM(num_visible: int, num_hidden: int, mu: float = 0, sigma: float = 0.01):\n",
    "    \"\"\" \n",
    "    Initialize a Restricted Boltzmann Machine (RBM) with the given dimensions and parameters.\n",
    "    \n",
    "    :param num_visible: The dimension of the visible nodes (V).\n",
    "    :param num_hidden: The dimension of the hidden nodes (H).\n",
    "    :param mu: The mean of the normal distribution used to initialize the weights. Default is 0.\n",
    "    :param sigma: The standard deviation of the normal distribution used to initialize the weights. Default is 0.01.\n",
    "    \n",
    "    :return: A dictionary representing the RBM with initialized weights and biases.\n",
    "    \"\"\"\n",
    "    # Initialize the weights with random values from a normal distribution\n",
    "    W = np.random.normal(mu, sigma, size=(num_visible, num_hidden))\n",
    "    \n",
    "    # Initialize the biases with zeros\n",
    "    a = np.zeros(num_visible) # bias for visible nodes\n",
    "    b = np.zeros(num_hidden)  # bias for hidden nodes\n",
    "    \n",
    "    # Create the RBM structure with initialized weights and biases\n",
    "    rbm = {'W': W, 'a': a, 'b': b}\n",
    "    \n",
    "    return rbm"
   ]
  },
  {
   "cell_type": "code",
   "execution_count": 15,
   "metadata": {},
   "outputs": [
    {
     "name": "stdout",
     "output_type": "stream",
     "text": [
      "W: [[-0.00471479 -0.00040472]\n",
      " [-0.01916697 -0.00446343]] \n",
      "a: [0. 0.] \n",
      "b: [0. 0.]\n"
     ]
    }
   ],
   "source": [
    "RBM = init_RBM(2,2)\n",
    "print('W:', RBM['W'], '\\na:', RBM['a'], '\\nb:', RBM['b'])"
   ]
  },
  {
   "cell_type": "code",
   "execution_count": 3,
   "metadata": {},
   "outputs": [],
   "source": [
    "def sigmoid(x):\n",
    "    \n",
    "    return 1 / (1 + np.exp(-x))"
   ]
  },
  {
   "cell_type": "markdown",
   "metadata": {},
   "source": [
    "#### entree_sortie_rbm \n",
    "\n",
    "The core calculation performed by this function can be represented as follows:\n",
    "\n",
    "$$P(h=1|v) = σ(a + W·v)$$"
   ]
  },
  {
   "cell_type": "code",
   "execution_count": 16,
   "metadata": {},
   "outputs": [],
   "source": [
    "def entree_sortie_rbm(rbm, v):\n",
    "        return sigmoid(rbm['b'] + np.dot(v, rbm['W']))"
   ]
  },
  {
   "cell_type": "markdown",
   "metadata": {},
   "source": [
    "#### sortie_entree_rbm \n",
    "\n",
    "The core calculation performed by this function can be represented as follows:\n",
    "\n",
    "$$P(v=1|h) = σ(b + W^T.h)$$"
   ]
  },
  {
   "cell_type": "code",
   "execution_count": 37,
   "metadata": {},
   "outputs": [],
   "source": [
    "def sortie_entree_rbm(rbm, h):\n",
    "        return sigmoid(rbm['a'] + np.dot(h, rbm['W'].T))\n"
   ]
  },
  {
   "cell_type": "code",
   "execution_count": 40,
   "metadata": {},
   "outputs": [],
   "source": [
    "def train_RBM(X, rbm, epochs=100, learning_rate=0.1, batch_size=128):\n",
    "    \"\"\"\n",
    "    param X: training data\n",
    "    param rbm: the RBM model\n",
    "    param epochs: number of training epochs\n",
    "    param learning_rate: learning rate\n",
    "    param batch_size: size of mini-batches\n",
    "    :return the trained RBM model\n",
    "    \"\"\"\n",
    "    for epoch in range(epochs):\n",
    "        x = X.copy()\n",
    "        np.random.shuffle(x)\n",
    "        mse = 0\n",
    "\n",
    "        for i in range(0, x.shape[0], batch_size):\n",
    "            batch = x[i:i+batch_size]\n",
    "            v0 = batch\n",
    "\n",
    "            \n",
    "            h0_prob = entree_sortie_rbm(rbm, v0)\n",
    "            h0 = np.random.binomial(1, h0_prob)\n",
    "\n",
    "            \n",
    "            v1_prob = sortie_entree_rbm(rbm, h0)\n",
    "            v1 = np.random.binomial(1, v1_prob)\n",
    "            h1_prob = entree_sortie_rbm(rbm, v1)\n",
    "\n",
    "            grad_W = np.dot(v0.T, h0) - np.dot(v1.T, h1_prob)\n",
    "            grad_a = np.sum(v0 - v1, axis=0)\n",
    "            grad_b = np.sum(h0 - h1_prob, axis=0)\n",
    "\n",
    "            # Mise à jour des poids et biais\n",
    "            rbm['W'] += learning_rate * grad_W / batch_size\n",
    "            rbm['a'] += learning_rate * grad_a / batch_size\n",
    "            rbm['b'] += learning_rate * grad_b / batch_size\n",
    "\n",
    "            mse += np.mean((v0 - v1) ** 2)\n",
    "\n",
    "        mse /= x.shape[0] // batch_size\n",
    "        print(f\"Epoch {epoch + 1}/{epochs}, Mean Square Error : {mse}\")\n",
    "\n",
    "    return rbm"
   ]
  },
  {
   "cell_type": "code",
   "execution_count": 45,
   "metadata": {},
   "outputs": [],
   "source": [
    "def generer_image_RBM(rbm, nb_images,x_shape=28, y_shape=28, nb_iterations=100, Plot=False ):\n",
    "    \"\"\"\n",
    "    param rbm: the trained RBM model\n",
    "    param nb_iterations: number of iterations for Gibbs sampling\n",
    "    param nb_images: number of images to generate\n",
    "    \"\"\"\n",
    "    # Initialize the visible units randomly\n",
    "    p = rbm['W'].shape[0]\n",
    "    images = []\n",
    "    for i in range(nb_images):\n",
    "        v = np.random.binomial(1, 0.5 * np.ones(p))\n",
    "        \n",
    "        for _ in range(nb_iterations):\n",
    "            \n",
    "            h_prob = entree_sortie_rbm(rbm, v)\n",
    "            h = np.random.binomial(1, h_prob)\n",
    "            v_prob = sortie_entree_rbm(rbm, h)\n",
    "            v = np.random.binomial(1, v_prob)\n",
    "        images.append(v)\n",
    "    if Plot:\n",
    "        for i in range(nb_images):\n",
    "            plt.subplot(1, nb_images, i+1)\n",
    "            plt.imshow(images[i].reshape((x_shape, y_shape)), cmap='gray')  \n",
    "            plt.axis('off')\n",
    "        plt.show()\n",
    "\n",
    "    return np.array(images)"
   ]
  },
  {
   "cell_type": "markdown",
   "metadata": {},
   "source": [
    "## Test RBM Function"
   ]
  },
  {
   "cell_type": "code",
   "execution_count": 101,
   "metadata": {},
   "outputs": [],
   "source": [
    "# Load the data\n",
    "data_path = '../data/binary_alpha_digits/binaryalphadigs.mat'\n",
    "X = lire_alpha_digit(data_path, np.arange(10))"
   ]
  },
  {
   "cell_type": "code",
   "execution_count": 102,
   "metadata": {},
   "outputs": [
    {
     "data": {
      "text/plain": [
       "(390, 320)"
      ]
     },
     "execution_count": 102,
     "metadata": {},
     "output_type": "execute_result"
    }
   ],
   "source": [
    "n_b, p_b = X.shape\n",
    "n_b, p_b"
   ]
  },
  {
   "cell_type": "code",
   "execution_count": 84,
   "metadata": {},
   "outputs": [],
   "source": [
    "q = 1000\n",
    "RBM = init_RBM(p_b, q)"
   ]
  },
  {
   "cell_type": "code",
   "execution_count": 85,
   "metadata": {},
   "outputs": [
    {
     "name": "stdout",
     "output_type": "stream",
     "text": [
      "Epoch 1/100, Mean Square Error : 0.6101860894097223\n",
      "Epoch 2/100, Mean Square Error : 0.5702067057291668\n",
      "Epoch 3/100, Mean Square Error : 0.555007595486111\n",
      "Epoch 4/100, Mean Square Error : 0.5626953124999999\n",
      "Epoch 5/100, Mean Square Error : 0.5760498046875\n",
      "Epoch 6/100, Mean Square Error : 0.5595296223958333\n",
      "Epoch 7/100, Mean Square Error : 0.5590901692708333\n",
      "Epoch 8/100, Mean Square Error : 0.5396077473958334\n",
      "Epoch 9/100, Mean Square Error : 0.5551974826388889\n",
      "Epoch 10/100, Mean Square Error : 0.5393364800347222\n",
      "Epoch 11/100, Mean Square Error : 0.5472086588541667\n",
      "Epoch 12/100, Mean Square Error : 0.5063422309027777\n",
      "Epoch 13/100, Mean Square Error : 0.5075032552083333\n",
      "Epoch 14/100, Mean Square Error : 0.4960313585069444\n",
      "Epoch 15/100, Mean Square Error : 0.49092068142361106\n",
      "Epoch 16/100, Mean Square Error : 0.4925726996527778\n",
      "Epoch 17/100, Mean Square Error : 0.4865695529513889\n",
      "Epoch 18/100, Mean Square Error : 0.47829318576388885\n",
      "Epoch 19/100, Mean Square Error : 0.4576904296875\n",
      "Epoch 20/100, Mean Square Error : 0.4439751519097222\n",
      "Epoch 21/100, Mean Square Error : 0.43410373263888885\n",
      "Epoch 22/100, Mean Square Error : 0.43435329861111116\n",
      "Epoch 23/100, Mean Square Error : 0.41896158854166665\n",
      "Epoch 24/100, Mean Square Error : 0.4354329427083334\n",
      "Epoch 25/100, Mean Square Error : 0.4258138020833333\n",
      "Epoch 26/100, Mean Square Error : 0.4195312500000001\n",
      "Epoch 27/100, Mean Square Error : 0.41245117187499997\n",
      "Epoch 28/100, Mean Square Error : 0.39858940972222223\n",
      "Epoch 29/100, Mean Square Error : 0.3853597005208333\n",
      "Epoch 30/100, Mean Square Error : 0.38257921006944445\n",
      "Epoch 31/100, Mean Square Error : 0.38298882378472227\n",
      "Epoch 32/100, Mean Square Error : 0.37518446180555554\n",
      "Epoch 33/100, Mean Square Error : 0.37094726562499997\n",
      "Epoch 34/100, Mean Square Error : 0.3761745876736111\n",
      "Epoch 35/100, Mean Square Error : 0.36805013020833327\n",
      "Epoch 36/100, Mean Square Error : 0.3687798394097222\n",
      "Epoch 37/100, Mean Square Error : 0.3675618489583334\n",
      "Epoch 38/100, Mean Square Error : 0.34905598958333334\n",
      "Epoch 39/100, Mean Square Error : 0.3501030815972222\n",
      "Epoch 40/100, Mean Square Error : 0.34108615451388885\n",
      "Epoch 41/100, Mean Square Error : 0.35390625000000003\n",
      "Epoch 42/100, Mean Square Error : 0.35186631944444446\n",
      "Epoch 43/100, Mean Square Error : 0.33952094184027776\n",
      "Epoch 44/100, Mean Square Error : 0.33933376736111115\n",
      "Epoch 45/100, Mean Square Error : 0.32958170572916673\n",
      "Epoch 46/100, Mean Square Error : 0.3384195963541667\n",
      "Epoch 47/100, Mean Square Error : 0.3315022786458333\n",
      "Epoch 48/100, Mean Square Error : 0.3304904513888889\n",
      "Epoch 49/100, Mean Square Error : 0.31231825086805554\n",
      "Epoch 50/100, Mean Square Error : 0.32730305989583336\n",
      "Epoch 51/100, Mean Square Error : 0.3159505208333333\n",
      "Epoch 52/100, Mean Square Error : 0.30499131944444446\n",
      "Epoch 53/100, Mean Square Error : 0.30812717013888885\n",
      "Epoch 54/100, Mean Square Error : 0.31106499565972223\n",
      "Epoch 55/100, Mean Square Error : 0.3103868272569445\n",
      "Epoch 56/100, Mean Square Error : 0.2974338107638889\n",
      "Epoch 57/100, Mean Square Error : 0.29940049913194444\n",
      "Epoch 58/100, Mean Square Error : 0.29423556857638894\n",
      "Epoch 59/100, Mean Square Error : 0.29136013454861115\n",
      "Epoch 60/100, Mean Square Error : 0.2937418619791667\n",
      "Epoch 61/100, Mean Square Error : 0.2906521267361111\n",
      "Epoch 62/100, Mean Square Error : 0.2882622612847222\n",
      "Epoch 63/100, Mean Square Error : 0.2774468315972222\n",
      "Epoch 64/100, Mean Square Error : 0.2788058810763889\n",
      "Epoch 65/100, Mean Square Error : 0.2774278428819445\n",
      "Epoch 66/100, Mean Square Error : 0.28028157552083327\n",
      "Epoch 67/100, Mean Square Error : 0.26735839843750003\n",
      "Epoch 68/100, Mean Square Error : 0.2826388888888889\n",
      "Epoch 69/100, Mean Square Error : 0.2675699869791667\n",
      "Epoch 70/100, Mean Square Error : 0.2744059244791667\n",
      "Epoch 71/100, Mean Square Error : 0.2612820095486111\n",
      "Epoch 72/100, Mean Square Error : 0.2724473741319445\n",
      "Epoch 73/100, Mean Square Error : 0.2713243272569444\n",
      "Epoch 74/100, Mean Square Error : 0.2651312934027778\n",
      "Epoch 75/100, Mean Square Error : 0.2639350043402778\n",
      "Epoch 76/100, Mean Square Error : 0.24820421006944446\n",
      "Epoch 77/100, Mean Square Error : 0.2561089409722222\n",
      "Epoch 78/100, Mean Square Error : 0.24882541232638888\n",
      "Epoch 79/100, Mean Square Error : 0.25785590277777776\n",
      "Epoch 80/100, Mean Square Error : 0.2510470920138889\n",
      "Epoch 81/100, Mean Square Error : 0.25101996527777776\n",
      "Epoch 82/100, Mean Square Error : 0.2452419704861111\n",
      "Epoch 83/100, Mean Square Error : 0.2673394097222222\n",
      "Epoch 84/100, Mean Square Error : 0.246923828125\n",
      "Epoch 85/100, Mean Square Error : 0.2527615017361111\n",
      "Epoch 86/100, Mean Square Error : 0.23461642795138885\n",
      "Epoch 87/100, Mean Square Error : 0.23901909722222223\n",
      "Epoch 88/100, Mean Square Error : 0.2315890842013889\n",
      "Epoch 89/100, Mean Square Error : 0.24087999131944446\n",
      "Epoch 90/100, Mean Square Error : 0.2363471137152778\n",
      "Epoch 91/100, Mean Square Error : 0.22925889756944443\n",
      "Epoch 92/100, Mean Square Error : 0.22517361111111112\n",
      "Epoch 93/100, Mean Square Error : 0.22693956163194443\n",
      "Epoch 94/100, Mean Square Error : 0.22506510416666667\n",
      "Epoch 95/100, Mean Square Error : 0.21920844184027777\n",
      "Epoch 96/100, Mean Square Error : 0.22107476128472223\n",
      "Epoch 97/100, Mean Square Error : 0.2170762803819444\n",
      "Epoch 98/100, Mean Square Error : 0.20747341579861112\n",
      "Epoch 99/100, Mean Square Error : 0.21321072048611112\n",
      "Epoch 100/100, Mean Square Error : 0.21722276475694444\n"
     ]
    }
   ],
   "source": [
    "RBM = train_RBM(X, RBM, epochs=100, learning_rate=0.1, batch_size=128)"
   ]
  },
  {
   "cell_type": "code",
   "execution_count": 86,
   "metadata": {},
   "outputs": [
    {
     "data": {
      "image/png": "[encoded data removed]",
      "text/plain": [
       "<Figure size 640x480 with 10 Axes>"
      ]
     },
     "metadata": {},
     "output_type": "display_data"
    }
   ],
   "source": [
    "generated_images = generer_image_RBM(RBM, 10, x_shape=20, y_shape=16, nb_iterations=100, Plot=True)"
   ]
  },
  {
   "cell_type": "markdown",
   "metadata": {},
   "source": [
    "## RBM Class"
   ]
  },
  {
   "cell_type": "code",
   "execution_count": 103,
   "metadata": {},
   "outputs": [],
   "source": [
    "class RBM:\n",
    "    def __init__(self, num_visible: int, num_hidden: int, mu: float = 0, sigma: float = 0.01):\n",
    "        \"\"\" \n",
    "        Initialize a Restricted Boltzmann Machine (RBM) with the given dimensions and parameters.\n",
    "        \n",
    "        :param num_visible: The dimension of the visible nodes (V).\n",
    "        :param num_hidden: The dimension of the hidden nodes (H).\n",
    "        :param mu: The mean of the normal distribution used to initialize the weights. Default is 0.\n",
    "        :param sigma: The standard deviation of the normal distribution used to initialize the weights. Default is 0.01.\n",
    "        \n",
    "        :return: A dictionary representing the RBM with initialized weights and biases.\n",
    "        \"\"\"\n",
    "        self.num_visible = num_visible\n",
    "        self.num_hidden = num_hidden\n",
    "        self.W = np.random.randn(num_visible, num_hidden)\n",
    "        self.a = np.random.randn(num_visible)\n",
    "        self.b = np.random.randn(num_hidden)\n",
    "\n",
    "    def sigmoid(self, x):\n",
    "        return 1 / (1 + np.exp(-x))\n",
    "\n",
    "    def entree_sortie(self, v):\n",
    "        \"\"\"\n",
    "        Compute the probability P(h=1|v) of the hidden nodes given the visible nodes.\n",
    "        \"\"\"\n",
    "        return self.sigmoid(self.b + np.dot(v, self.W))\n",
    "    \n",
    "    def sortie_entree(self, h):\n",
    "       \n",
    "        \"\"\"\n",
    "        Compute the probability P(v=1|h) of the visible nodes given the hidden nodes.\n",
    "        \"\"\"\n",
    "        return self.sigmoid(self.a + np.dot(h, self.W.T))\n",
    "\n",
    "    def train(self, X, epochs=100, learning_rate=0.1, batch_size=128):\n",
    "        \"\"\"\n",
    "        param X: training data\n",
    "        param rbm: the RBM model\n",
    "        param epochs: number of training epochs\n",
    "        param learning_rate: learning rate\n",
    "        param batch_size: size of mini-batches\n",
    "        :return the trained RBM model\n",
    "        \"\"\"\n",
    "        for epoch in range(epochs):\n",
    "            x = X.copy()\n",
    "            np.random.shuffle(x)\n",
    "            mse = 0\n",
    "\n",
    "            for i in range(0, x.shape[0], batch_size):\n",
    "                batch = x[i:i+batch_size]\n",
    "                v0 = batch\n",
    "\n",
    "                h0_prob = self.entree_sortie(v0)\n",
    "                h0 = np.random.binomial(1, h0_prob)\n",
    "\n",
    "                v1_prob = self.sortie_entree(h0)\n",
    "                v1 = np.random.binomial(1, v1_prob)\n",
    "                h1_prob = self.entree_sortie(v1)\n",
    "\n",
    "                grad_W = np.dot(v0.T, h0) - np.dot(v1.T, h1_prob)\n",
    "                grad_a = np.sum(v0 - v1, axis=0)\n",
    "                grad_b = np.sum(h0 - h1_prob, axis=0)\n",
    "\n",
    "                self.W += learning_rate * grad_W / batch_size\n",
    "                self.a += learning_rate * grad_a / batch_size\n",
    "                self.b += learning_rate * grad_b / batch_size\n",
    "\n",
    "                mse += np.mean((v0 - v1) ** 2)\n",
    "\n",
    "            mse /= x.shape[0] // batch_size\n",
    "            print(f\"Epoch {epoch + 1}/{epochs}, Mean Square Error : {mse}\")\n",
    "            \n",
    "    def generate_images(self, nb_images, x_shape=28, y_shape=28, nb_iterations=100, Plot=False):\n",
    "        \"\"\"\n",
    "        param rbm: the trained RBM model\n",
    "        param nb_iterations: number of iterations for Gibbs sampling\n",
    "        param nb_images: number of images to generate\n",
    "        \"\"\"\n",
    "        images = []\n",
    "        for _ in range(nb_images):\n",
    "            v = np.random.binomial(1, 0.5 * np.ones(self.num_visible))\n",
    "            \n",
    "            for _ in range(nb_iterations):\n",
    "                h_prob = self.entree_sortie(v)\n",
    "                h = np.random.binomial(1, h_prob)\n",
    "                v_prob = self.sortie_entree(h)\n",
    "                v = np.random.binomial(1, v_prob)\n",
    "            \n",
    "            images.append(v)\n",
    "        \n",
    "        if Plot:\n",
    "            for i in range(nb_images):\n",
    "                plt.subplot(1, nb_images, i+1)\n",
    "                plt.imshow(images[i].reshape((x_shape, y_shape)), cmap='gray')  \n",
    "                plt.axis('off')\n",
    "            plt.show()\n",
    "\n",
    "        return np.array(images)"
   ]
  },
  {
   "cell_type": "markdown",
   "metadata": {},
   "source": [
    "### Test RBM Class implementation"
   ]
  },
  {
   "cell_type": "code",
   "execution_count": 90,
   "metadata": {},
   "outputs": [],
   "source": [
    "from src.rbm.RBM_class import RBM"
   ]
  },
  {
   "cell_type": "code",
   "execution_count": 106,
   "metadata": {},
   "outputs": [
    {
     "name": "stdout",
     "output_type": "stream",
     "text": [
      "Epoch 1/100, Mean Square Error : 0.3170355902777778\n",
      "Epoch 2/100, Mean Square Error : 0.2833740234375\n",
      "Epoch 3/100, Mean Square Error : 0.2758517795138889\n",
      "Epoch 4/100, Mean Square Error : 0.26912163628472224\n",
      "Epoch 5/100, Mean Square Error : 0.2674424913194444\n",
      "Epoch 6/100, Mean Square Error : 0.26171332465277775\n",
      "Epoch 7/100, Mean Square Error : 0.25534125434027777\n",
      "Epoch 8/100, Mean Square Error : 0.25394965277777776\n",
      "Epoch 9/100, Mean Square Error : 0.24711914062499998\n",
      "Epoch 10/100, Mean Square Error : 0.2426106770833333\n",
      "Epoch 11/100, Mean Square Error : 0.23875596788194442\n",
      "Epoch 12/100, Mean Square Error : 0.23511555989583335\n",
      "Epoch 13/100, Mean Square Error : 0.2338297526041667\n",
      "Epoch 14/100, Mean Square Error : 0.22894422743055556\n",
      "Epoch 15/100, Mean Square Error : 0.2257107204861111\n",
      "Epoch 16/100, Mean Square Error : 0.22083875868055555\n",
      "Epoch 17/100, Mean Square Error : 0.21985677083333333\n",
      "Epoch 18/100, Mean Square Error : 0.21844346788194444\n",
      "Epoch 19/100, Mean Square Error : 0.21375596788194443\n",
      "Epoch 20/100, Mean Square Error : 0.21269531249999998\n",
      "Epoch 21/100, Mean Square Error : 0.20917154947916664\n",
      "Epoch 22/100, Mean Square Error : 0.21028917100694444\n",
      "Epoch 23/100, Mean Square Error : 0.20416395399305556\n",
      "Epoch 24/100, Mean Square Error : 0.20114203559027774\n",
      "Epoch 25/100, Mean Square Error : 0.19821234809027777\n",
      "Epoch 26/100, Mean Square Error : 0.19724934895833335\n",
      "Epoch 27/100, Mean Square Error : 0.19686414930555554\n",
      "Epoch 28/100, Mean Square Error : 0.19500596788194446\n",
      "Epoch 29/100, Mean Square Error : 0.19123806423611112\n",
      "Epoch 30/100, Mean Square Error : 0.19275987413194443\n",
      "Epoch 31/100, Mean Square Error : 0.1899115668402778\n",
      "Epoch 32/100, Mean Square Error : 0.19124620225694444\n",
      "Epoch 33/100, Mean Square Error : 0.18648003472222227\n",
      "Epoch 34/100, Mean Square Error : 0.1842230902777778\n",
      "Epoch 35/100, Mean Square Error : 0.18281249999999996\n",
      "Epoch 36/100, Mean Square Error : 0.18064507378472225\n",
      "Epoch 37/100, Mean Square Error : 0.178955078125\n",
      "Epoch 38/100, Mean Square Error : 0.17862955729166666\n",
      "Epoch 39/100, Mean Square Error : 0.17725423177083333\n",
      "Epoch 40/100, Mean Square Error : 0.17347005208333333\n",
      "Epoch 41/100, Mean Square Error : 0.17445475260416665\n",
      "Epoch 42/100, Mean Square Error : 0.1762722439236111\n",
      "Epoch 43/100, Mean Square Error : 0.17319064670138887\n",
      "Epoch 44/100, Mean Square Error : 0.1694905598958333\n",
      "Epoch 45/100, Mean Square Error : 0.17139214409722223\n",
      "Epoch 46/100, Mean Square Error : 0.17062717013888887\n",
      "Epoch 47/100, Mean Square Error : 0.16874457465277778\n",
      "Epoch 48/100, Mean Square Error : 0.1678982204861111\n",
      "Epoch 49/100, Mean Square Error : 0.16394585503472223\n",
      "Epoch 50/100, Mean Square Error : 0.16550564236111112\n",
      "Epoch 51/100, Mean Square Error : 0.16490614149305555\n",
      "Epoch 52/100, Mean Square Error : 0.1632758246527778\n",
      "Epoch 53/100, Mean Square Error : 0.16225857204861108\n",
      "Epoch 54/100, Mean Square Error : 0.15862630208333334\n",
      "Epoch 55/100, Mean Square Error : 0.16112196180555557\n",
      "Epoch 56/100, Mean Square Error : 0.15902777777777777\n",
      "Epoch 57/100, Mean Square Error : 0.1578125\n",
      "Epoch 58/100, Mean Square Error : 0.15745985243055557\n",
      "Epoch 59/100, Mean Square Error : 0.15552571614583333\n",
      "Epoch 60/100, Mean Square Error : 0.15337999131944444\n",
      "Epoch 61/100, Mean Square Error : 0.1530463324652778\n",
      "Epoch 62/100, Mean Square Error : 0.1569580078125\n",
      "Epoch 63/100, Mean Square Error : 0.15257703993055555\n",
      "Epoch 64/100, Mean Square Error : 0.15184190538194445\n",
      "Epoch 65/100, Mean Square Error : 0.1507839626736111\n",
      "Epoch 66/100, Mean Square Error : 0.14845106336805552\n",
      "Epoch 67/100, Mean Square Error : 0.1525146484375\n",
      "Epoch 68/100, Mean Square Error : 0.14916178385416665\n",
      "Epoch 69/100, Mean Square Error : 0.1478922526041667\n",
      "Epoch 70/100, Mean Square Error : 0.1459988064236111\n",
      "Epoch 71/100, Mean Square Error : 0.14450954861111112\n",
      "Epoch 72/100, Mean Square Error : 0.1439751519097222\n",
      "Epoch 73/100, Mean Square Error : 0.14889865451388887\n",
      "Epoch 74/100, Mean Square Error : 0.14414333767361112\n",
      "Epoch 75/100, Mean Square Error : 0.1436089409722222\n",
      "Epoch 76/100, Mean Square Error : 0.14499782986111112\n",
      "Epoch 77/100, Mean Square Error : 0.14086914062499997\n",
      "Epoch 78/100, Mean Square Error : 0.14214409722222224\n",
      "Epoch 79/100, Mean Square Error : 0.14051649305555555\n",
      "Epoch 80/100, Mean Square Error : 0.14495985243055554\n",
      "Epoch 81/100, Mean Square Error : 0.1391086154513889\n",
      "Epoch 82/100, Mean Square Error : 0.13926052517361112\n",
      "Epoch 83/100, Mean Square Error : 0.13795844184027775\n",
      "Epoch 84/100, Mean Square Error : 0.137939453125\n",
      "Epoch 85/100, Mean Square Error : 0.13621690538194445\n",
      "Epoch 86/100, Mean Square Error : 0.13705512152777777\n",
      "Epoch 87/100, Mean Square Error : 0.13365885416666665\n",
      "Epoch 88/100, Mean Square Error : 0.13604329427083334\n",
      "Epoch 89/100, Mean Square Error : 0.13393283420138888\n",
      "Epoch 90/100, Mean Square Error : 0.13508572048611114\n",
      "Epoch 91/100, Mean Square Error : 0.1340087890625\n",
      "Epoch 92/100, Mean Square Error : 0.13398437500000002\n",
      "Epoch 93/100, Mean Square Error : 0.1355523003472222\n",
      "Epoch 94/100, Mean Square Error : 0.13253851996527777\n",
      "Epoch 95/100, Mean Square Error : 0.1350748697916667\n",
      "Epoch 96/100, Mean Square Error : 0.13368055555555558\n",
      "Epoch 97/100, Mean Square Error : 0.12793511284722223\n",
      "Epoch 98/100, Mean Square Error : 0.1291476779513889\n",
      "Epoch 99/100, Mean Square Error : 0.1296115451388889\n",
      "Epoch 100/100, Mean Square Error : 0.12782389322916668\n"
     ]
    },
    {
     "data": {
      "image/png": "[encoded data removed]",
      "text/plain": [
       "<Figure size 640x480 with 10 Axes>"
      ]
     },
     "metadata": {},
     "output_type": "display_data"
    }
   ],
   "source": [
    "q=200\n",
    "rbm = RBM(p_b,q)\n",
    "rbm.train(X, epochs=100, learning_rate=0.1, batch_size=32)\n",
    "images = rbm.generate_images(10, x_shape=20, y_shape=16, nb_iterations=100, Plot=True)"
   ]
  },
  {
   "cell_type": "code",
   "execution_count": null,
   "metadata": {},
   "outputs": [],
   "source": []
  }
 ],
 "metadata": {
  "kernelspec": {
   "display_name": "Python [conda env:MLenv] *",
   "language": "python",
   "name": "conda-env-MLenv-py"
  },
  "language_info": {
   "codemirror_mode": {
    "name": "ipython",
    "version": 3
   },
   "file_extension": ".py",
   "mimetype": "text/x-python",
   "name": "python",
   "nbconvert_exporter": "python",
   "pygments_lexer": "ipython3",
   "version": "3.9.7"
  }
 },
 "nbformat": 4,
 "nbformat_minor": 4
}
