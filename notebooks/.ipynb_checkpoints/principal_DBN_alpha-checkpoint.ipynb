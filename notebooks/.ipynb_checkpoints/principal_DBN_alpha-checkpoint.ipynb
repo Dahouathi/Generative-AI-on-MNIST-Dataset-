{
 "cells": [
  {
   "cell_type": "markdown",
   "metadata": {},
   "source": [
    "# DBN Construction & Binary Alpha/Digits TEST"
   ]
  },
  {
   "cell_type": "code",
   "execution_count": 1,
   "metadata": {},
   "outputs": [
    {
     "ename": "ImportError",
     "evalue": "cannot import name 'generer_image' from 'src.rbm.principal_RBM_alpha' (/home/dahouathi/Generative AI/Generative-AI-on-MNIST-Dataset-/notebooks/../src/rbm/principal_RBM_alpha.py)",
     "output_type": "error",
     "traceback": [
      "\u001b[0;31m---------------------------------------------------------------------------\u001b[0m",
      "\u001b[0;31mImportError\u001b[0m                               Traceback (most recent call last)",
      "Cell \u001b[0;32mIn[1], line 8\u001b[0m\n\u001b[1;32m      6\u001b[0m \u001b[38;5;28;01mfrom\u001b[39;00m \u001b[38;5;21;01msrc\u001b[39;00m\u001b[38;5;21;01m.\u001b[39;00m\u001b[38;5;21;01mrbm\u001b[39;00m\u001b[38;5;21;01m.\u001b[39;00m\u001b[38;5;21;01mprincipal_RBM_alpha\u001b[39;00m \u001b[38;5;28;01mimport\u001b[39;00m sortie_entree_rbm\n\u001b[1;32m      7\u001b[0m \u001b[38;5;28;01mfrom\u001b[39;00m \u001b[38;5;21;01msrc\u001b[39;00m\u001b[38;5;21;01m.\u001b[39;00m\u001b[38;5;21;01mrbm\u001b[39;00m\u001b[38;5;21;01m.\u001b[39;00m\u001b[38;5;21;01mprincipal_RBM_alpha\u001b[39;00m \u001b[38;5;28;01mimport\u001b[39;00m train_RBM\n\u001b[0;32m----> 8\u001b[0m \u001b[38;5;28;01mfrom\u001b[39;00m \u001b[38;5;21;01msrc\u001b[39;00m\u001b[38;5;21;01m.\u001b[39;00m\u001b[38;5;21;01mrbm\u001b[39;00m\u001b[38;5;21;01m.\u001b[39;00m\u001b[38;5;21;01mprincipal_RBM_alpha\u001b[39;00m \u001b[38;5;28;01mimport\u001b[39;00m generer_image\n\u001b[1;32m      9\u001b[0m \u001b[38;5;66;03m# Import the RBM class from the RBM_class.py file\u001b[39;00m\n\u001b[1;32m     10\u001b[0m \u001b[38;5;28;01mfrom\u001b[39;00m \u001b[38;5;21;01msrc\u001b[39;00m\u001b[38;5;21;01m.\u001b[39;00m\u001b[38;5;21;01mrbm\u001b[39;00m\u001b[38;5;21;01m.\u001b[39;00m\u001b[38;5;21;01mRBM_class\u001b[39;00m \u001b[38;5;28;01mimport\u001b[39;00m RBM\n",
      "\u001b[0;31mImportError\u001b[0m: cannot import name 'generer_image' from 'src.rbm.principal_RBM_alpha' (/home/dahouathi/Generative AI/Generative-AI-on-MNIST-Dataset-/notebooks/../src/rbm/principal_RBM_alpha.py)"
     ]
    }
   ],
   "source": [
    "import sys\n",
    "sys.path.insert(0, '../')  # Notebook is in the 'notebook' directory\n",
    "# Import the RBM class from the principal_RBM_alpha.py file\n",
    "from src.rbm import init_RBM\n",
    "from src.rbm import entree_sortie_rbm\n",
    "from src.rbm import sortie_entree_rbm\n",
    "from src.rbm import train_RBM\n",
    "from src.rbm import generer_image\n",
    "# Import the RBM class from the RBM_class.py file\n",
    "from src.rbm.RBM_class import RBM\n",
    "import numpy as np\n",
    "import matplotlib.pyplot as plt"
   ]
  },
  {
   "cell_type": "markdown",
   "metadata": {},
   "source": [
    "### init_DBN:"
   ]
  },
  {
   "cell_type": "code",
   "execution_count": null,
   "metadata": {},
   "outputs": [],
   "source": [
    "def init_DBN(sizes):\n",
    "    \"\"\"\n",
    "    Construit et initialise un DBN.\n",
    "    \n",
    "    Arguments:\n",
    "    sizes -- liste contenant la taille de chaque couche du réseau (y compris la couche d'entrée)\n",
    "    \n",
    "    Retourne:\n",
    "    dbn -- un dictionnaire contenant les poids et biais de chaque RBM dans le DBN\n",
    "    \"\"\"\n",
    "    dbn = {'W': [], 'b': [], 'a': []}  # Dictionnaire pour stocker les poids et biais\n",
    "    \n",
    "    # Initialisation de chaque RBM dans le DBN\n",
    "    for i in range(len(sizes) - 1):\n",
    "        W, b, a = init_RBM(sizes[i], sizes[i+1])\n",
    "        dbn['W'].append(W)\n",
    "        dbn['b'].append(b)\n",
    "        dbn['a'].append(a)\n",
    "    \n",
    "    return dbn"
   ]
  }
 ],
 "metadata": {
  "kernelspec": {
   "display_name": "Python 3 (ipykernel)",
   "language": "python",
   "name": "python3"
  },
  "language_info": {
   "codemirror_mode": {
    "name": "ipython",
    "version": 3
   },
   "file_extension": ".py",
   "mimetype": "text/x-python",
   "name": "python",
   "nbconvert_exporter": "python",
   "pygments_lexer": "ipython3",
   "version": "3.9.7"
  }
 },
 "nbformat": 4,
 "nbformat_minor": 4
}
