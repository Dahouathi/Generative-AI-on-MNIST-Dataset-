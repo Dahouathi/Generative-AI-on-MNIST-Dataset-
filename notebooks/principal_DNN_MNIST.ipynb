{
 "cells": [
  {
   "cell_type": "markdown",
   "metadata": {},
   "source": [
    "# Construction and Test of DNN"
   ]
  },
  {
   "cell_type": "code",
   "execution_count": 2,
   "metadata": {},
   "outputs": [],
   "source": [
    "import sys\n",
    "sys.path.insert(0, '../')  # Notebook is in the 'notebooks' directory\n",
    "from src.dbn import init_DBN, train_DBN, generate_image_DBN\n",
    "import numpy as np\n",
    "from matplotlib import pyplot as plt\n",
    "from src.data_utils import lire_alpha_digit"
   ]
  },
  {
   "cell_type": "code",
   "execution_count": 3,
   "metadata": {},
   "outputs": [],
   "source": [
    "def init_DNN(sizes, output_size=10):\n",
    "    configuration = sizes + [output_size]\n",
    "    return init_DBN(configuration)"
   ]
  },
  {
   "cell_type": "code",
   "execution_count": 4,
   "metadata": {},
   "outputs": [],
   "source": [
    "def pretrain_DNN(X, dnn, epochs=100, learning_rate=0.1, batch_size=128):\n",
    "    dbn= {'W': dnn['W'][:-1], 'a': dnn['a'][:-1], 'b': dnn['b'][:-1]}\n",
    "    dbn = train_DBN(X, dbn, epochs=epochs, learning_rate=learning_rate, batch_size=batch_size)\n",
    "    dnn['W'][:-1] = dbn['W']\n",
    "    dnn['a'][:-1] = dbn['a']\n",
    "    dnn['b'][:-1] = dbn['b']\n",
    "    return dnn"
   ]
  },
  {
   "cell_type": "code",
   "execution_count": 5,
   "metadata": {},
   "outputs": [],
   "source": [
    "def calcul_softmax(rbm, X):\n",
    "    # Calculate the logits\n",
    "    logits = np.dot(X, rbm['W'][-1]) + rbm['b'][-1]\n",
    "    \n",
    "    # Apply the softmax function\n",
    "    exp_logits = np.exp(logits)\n",
    "    softmax_probs = exp_logits / np.sum(exp_logits, axis=1, keepdims=True)\n",
    "    \n",
    "    return softmax_probs"
   ]
  },
  {
   "cell_type": "code",
   "execution_count": null,
   "metadata": {},
   "outputs": [],
   "source": [
    "def entree_sortie_reseau(DNN, X):\n",
    "    sorties = [X]  # Liste pour stocker les sorties sur chaque couche du réseau\n",
    "    proba_sortie = None  # Variable pour stocker les probabilités sur les unités de sortie\n",
    "    \n",
    "    for i in range(len(DNN['W'])-1):\n",
    "        RBM = {'W': DNN['W'][i], 'a': DNN['a'][i], 'b': DNN['b'][i]}\n",
    "        sortie = entree_sortie_RBM(RBM, sorties[-1])\n",
    "        sorties.append(sortie)\n",
    "    RBM = {'W': DNN['W'][-1], 'a': DNN['a'][-1], 'b': DNN['b'][-1]}\n",
    "    proba_sortie = calcul_softmax(RBM, sorties[-1])\n",
    "    \n",
    "    return sorties, proba_sortie\n"
   ]
  }
 ],
 "metadata": {
  "kernelspec": {
   "display_name": "Python [conda env:MLenv] *",
   "language": "python",
   "name": "conda-env-MLenv-py"
  },
  "language_info": {
   "codemirror_mode": {
    "name": "ipython",
    "version": 3
   },
   "file_extension": ".py",
   "mimetype": "text/x-python",
   "name": "python",
   "nbconvert_exporter": "python",
   "pygments_lexer": "ipython3",
   "version": "3.9.7"
  }
 },
 "nbformat": 4,
 "nbformat_minor": 2
}
