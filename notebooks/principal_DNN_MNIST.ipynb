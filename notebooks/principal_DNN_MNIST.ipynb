{
 "cells": [
  {
   "cell_type": "markdown",
   "metadata": {},
   "source": [
    "# Construction and Test of DNN"
   ]
  },
  {
   "cell_type": "code",
   "execution_count": 1,
   "metadata": {},
   "outputs": [],
   "source": [
    "import sys\n",
    "sys.path.insert(0, '../')  # Notebook is in the 'notebooks' directory\n",
    "from src.dbn import init_DBN, train_DBN\n",
    "from src.rbm import entree_sortie_rbm\n",
    "import numpy as np\n",
    "from matplotlib import pyplot as plt\n",
    "from src.data_utils import lire_alpha_digit\n",
    "from src.dbn import DBN\n",
    "from src.rbm import RBM\n",
    "from sklearn.utils import shuffle\n",
    "import pandas as pd\n",
    "import seaborn as sns"
   ]
  },
  {
   "cell_type": "code",
   "execution_count": 2,
   "metadata": {},
   "outputs": [],
   "source": [
    "def init_DNN(sizes, output_size=10):\n",
    "    \"\"\"\n",
    "    Initialize a Deep Neural Network (DNN) with the given sizes and output size.\n",
    "    param: sizes: list of integers representing the number of nodes in each layer\n",
    "    param: output_size: number of nodes in the output layer\n",
    "    return: the initialized DNN model\n",
    "    \"\"\"\n",
    "    configuration = sizes + [output_size]\n",
    "    print(configuration)\n",
    "    return init_DBN(configuration)"
   ]
  },
  {
   "cell_type": "code",
   "execution_count": 3,
   "metadata": {},
   "outputs": [
    {
     "data": {
      "text/plain": [
       "((195, 320), (195,))"
      ]
     },
     "execution_count": 3,
     "metadata": {},
     "output_type": "execute_result"
    }
   ],
   "source": [
    "# Load the data\n",
    "data_path = '../data/binary_alpha_digits/binaryalphadigs.mat'\n",
    "X = lire_alpha_digit(data_path, np.arange(5))\n",
    "y_labels = []\n",
    "for i in range(5):\n",
    "    y_labels.extend([i] * (X.shape[0] // 5))\n",
    "y = np.array(y_labels)\n",
    "X.shape, y.shape"
   ]
  },
  {
   "cell_type": "code",
   "execution_count": 14,
   "metadata": {},
   "outputs": [
    {
     "name": "stdout",
     "output_type": "stream",
     "text": [
      "[320, 200, 200, 5]\n",
      "3 (320, 200)\n"
     ]
    }
   ],
   "source": [
    "dnn = init_DNN([320, 200, 200],5)\n",
    "print(len(dnn), dnn[0]['W'].shape)"
   ]
  },
  {
   "cell_type": "code",
   "execution_count": 5,
   "metadata": {},
   "outputs": [],
   "source": [
    "def pretrain_DNN(X, dnn, epochs=100, learning_rate=0.1, batch_size=128):\n",
    "    \"\"\"\n",
    "    Pretrain a Deep Neural Network (DNN) using the given data.\n",
    "    param: X: training data\n",
    "    param: dnn: the DNN model\n",
    "    param: epochs: number of training epochs\n",
    "    param: learning_rate: learning rate\n",
    "    param: batch_size: size of mini-batches\n",
    "    return: the pretrained DNN model\n",
    "    \"\"\"\n",
    "    dbn = dnn[:-1]\n",
    "    dbn = train_DBN(X, dbn, epochs=epochs, learning_rate=learning_rate, batch_size=batch_size)\n",
    "    dnn[:-1] = dbn\n",
    "    return dnn"
   ]
  },
  {
   "cell_type": "code",
   "execution_count": 15,
   "metadata": {},
   "outputs": [
    {
     "name": "stdout",
     "output_type": "stream",
     "text": [
      "Training layer 1\n",
      "Training layer 2\n"
     ]
    }
   ],
   "source": [
    "dnn = pretrain_DNN(X, dnn, epochs=100, learning_rate=0.1, batch_size=32)"
   ]
  },
  {
   "cell_type": "code",
   "execution_count": 7,
   "metadata": {},
   "outputs": [],
   "source": [
    "def calcul_softmax(rbm, X):\n",
    "    \"\"\"\n",
    "    Calculate the softmax probabilities for the given layer and input data.\n",
    "    param: layer: a dictionary containing the weights 'W' and biases 'b' of the layer\n",
    "    param: X: input data\n",
    "    return: softmax probabilities\n",
    "    \"\"\"\n",
    "    # Calculate the logits\n",
    "    logits = np.dot(X, rbm['W']) + rbm['b']\n",
    "    \n",
    "    # Apply the softmax function\n",
    "    exp_logits = np.exp(logits)\n",
    "    softmax_probs = exp_logits / np.sum(exp_logits, axis=1, keepdims=True)\n",
    "    \n",
    "    return softmax_probs"
   ]
  },
  {
   "cell_type": "code",
   "execution_count": 8,
   "metadata": {},
   "outputs": [],
   "source": [
    "def entree_sortie_reseau(DNN, X):\n",
    "    \"\"\"\n",
    "    Compute the output of the Deep Neural Network (DNN) given the input.\n",
    "    param: DNN: the DNN model\n",
    "    param: X: the input data\n",
    "    return: the output of the DNN\n",
    "    \"\"\"\n",
    "    v = X.copy()\n",
    "    sorties = [X]  # List to store the outputs of each layer\n",
    "    proba_sortie = None  # Will store the output of the last layer\n",
    "    \n",
    "    for i in range(len(DNN)-1):\n",
    "        rbm = DNN[i]\n",
    "        p_h = entree_sortie_rbm(rbm, v)\n",
    "        v = np.random.binomial(1, p_h)\n",
    "        sorties.append(p_h)\n",
    "    rbm_classification = DNN[-1]\n",
    "    proba_sortie = calcul_softmax(rbm_classification, v)\n",
    "    \n",
    "    return sorties, proba_sortie"
   ]
  },
  {
   "cell_type": "code",
   "execution_count": 9,
   "metadata": {},
   "outputs": [],
   "source": [
    "sorties, proba_sortie = entree_sortie_reseau(dnn, X)"
   ]
  },
  {
   "cell_type": "code",
   "execution_count": 10,
   "metadata": {},
   "outputs": [
    {
     "data": {
      "text/plain": [
       "((195, 320), (195, 5))"
      ]
     },
     "execution_count": 10,
     "metadata": {},
     "output_type": "execute_result"
    }
   ],
   "source": [
    "sorties[0].shape, proba_sortie.shape"
   ]
  },
  {
   "cell_type": "code",
   "execution_count": 13,
   "metadata": {},
   "outputs": [],
   "source": [
    "def retropropagation(X, y, dnn, epochs=100, learning_rate=0.1, batch_size=128, verbose=True, plot=True, pretrained=False, save_path=None):\n",
    "    \"\"\"\n",
    "    Train a Deep Neural Network (DNN) using the given data.\n",
    "    param: X: training data\n",
    "    param: y: target labels\n",
    "    param: dnn: the DNN model\n",
    "    param: pretrained: whether the DNN is pretrained\n",
    "    param: epochs: number of training epochs\n",
    "    param: learning_rate: learning rate\n",
    "    param: batch_size: size of mini-batches\n",
    "    param: verbose: whether to print the loss at each epoch\n",
    "    param: plot: whether to plot the loss\n",
    "    return: the trained DNN model\"\"\"\n",
    "    # Convert y to one-hot encoded format using pd.get_dummies\n",
    "    y_one_hot = pd.get_dummies(y).values\n",
    "\n",
    "    best_loss = float('inf')  # Initialize the minimum loss to infinity\n",
    "    loss = []\n",
    "    patience = 5  # Number of epochs to wait before early stopping\n",
    "    wait = 0\n",
    "    \n",
    "    for epoch in range(epochs):\n",
    "        # Shuffle the data using sklearn shuffle\n",
    "        X_shuffled, y_shuffled = shuffle(X, y_one_hot)\n",
    "        \n",
    "        loss_batches = []\n",
    "        # Iterate over each mini-batch\n",
    "        for batch in range(0, X.shape[0], batch_size):\n",
    "            \n",
    "            X_batch = X_shuffled[batch: min(batch + batch_size, X.shape[0]), :]\n",
    "            y_batch = y_shuffled[batch: min(batch + batch_size, X.shape[0])]\n",
    "\n",
    "            # Forward propagation\n",
    "            sorties, proba_sortie = entree_sortie_reseau(dnn, X_batch)\n",
    "            \n",
    "\n",
    "            # Loss calculation\n",
    "            loss_batch = -np.mean(np.sum(y_batch * np.log(proba_sortie), axis=1))\n",
    "            loss_batches.append(loss_batch)\n",
    "            \n",
    "            # Backward propagation\n",
    "            # Last layer\n",
    "            delta = proba_sortie - y_batch\n",
    "            grad_W = np.dot(sorties[-1].T, delta) / batch_size\n",
    "            grad_b = np.mean(delta, axis=0)\n",
    "            dnn[-1]['W'] -= learning_rate * grad_W\n",
    "            dnn[-1]['b'] -= learning_rate * grad_b\n",
    "\n",
    "            # Hidden layers\n",
    "            for i in range(2, len(dnn)+1):\n",
    "                if i == 2:  # Classification layer\n",
    "                    RBM = dnn[-1]\n",
    "                    delta = np.dot(delta, RBM['W'].T) * sorties[-1] * (1 - sorties[-1])\n",
    "                else:\n",
    "                    RBM = dnn[-i+1]\n",
    "                    delta = np.dot(delta, RBM['W'].T) * sorties[-i+1] * (1 - sorties[-i+1])\n",
    "                if i == len(dnn):\n",
    "                    grad_W = np.dot(X_batch.T, delta)\n",
    "                else:\n",
    "                    grad_W = np.dot(sorties[-i].T, delta)\n",
    "                \n",
    "                grad_b = np.mean(delta, axis=0)\n",
    "    \n",
    "                # Update weights and biases\n",
    "                dnn[-i]['W'] -= learning_rate * grad_W\n",
    "                dnn[-i]['b'] -= learning_rate * grad_b\n",
    "\n",
    "\n",
    "        # Calculate the cross entropy loss for the epoch\n",
    "        train_loss = float(np.mean(loss_batches))\n",
    "        loss.append(train_loss)\n",
    "        if verbose:\n",
    "            print(f\"Epoch {epoch+1}/{epochs}, Loss: {train_loss}\")\n",
    "\n",
    "        # Check if current loss is less than the best loss encountered so far\n",
    "        if train_loss < best_loss:\n",
    "            best_loss = train_loss\n",
    "            wait = 0  # reset wait since we've seen improvement\n",
    "        else:\n",
    "            wait += 1  # increment wait since there was no improvement\n",
    "\n",
    "        # If we have waited for 'patience' epochs without improvement, stop training\n",
    "        if wait >= patience:\n",
    "            print(\"Early stopping due to no improvement in Loss.\")\n",
    "            break\n",
    "        \n",
    "          \n",
    "    \n",
    "    if plot:\n",
    "        plt.figure()\n",
    "        plt.plot(np.arange(len(loss)), loss)\n",
    "        plt.xlabel(\"Epochs\")\n",
    "        plt.ylabel(\"CrossEntropy Loss\")\n",
    "        if pretrained:\n",
    "            plt.title(\"Loss for pretrained DNN\")\n",
    "        else:\n",
    "            plt.title(\"Loss for DNN (without pretraining)\")\n",
    "        if save_path:\n",
    "            plt.savefig(save_path, dpi=300, bbox_inches='tight')\n",
    "        plt.show(block=False)\n",
    "        plt.close()\n",
    "    return dnn"
   ]
  },
  {
   "cell_type": "code",
   "execution_count": 16,
   "metadata": {},
   "outputs": [
    {
     "name": "stdout",
     "output_type": "stream",
     "text": [
      "Epoch 1/100, Loss: 1.4518189084353037\n",
      "Epoch 2/100, Loss: 0.6741915895679768\n",
      "Epoch 3/100, Loss: 0.43088641524578347\n",
      "Epoch 4/100, Loss: 0.31438617774028227\n",
      "Epoch 5/100, Loss: 0.212030573502847\n",
      "Epoch 6/100, Loss: 0.16539310044022595\n",
      "Epoch 7/100, Loss: 0.13788729948995596\n",
      "Epoch 8/100, Loss: 0.13319312740666892\n",
      "Epoch 9/100, Loss: 0.09686042464646114\n",
      "Epoch 10/100, Loss: 0.10083071605247314\n",
      "Epoch 11/100, Loss: 0.08443527710672492\n",
      "Epoch 12/100, Loss: 0.08387230773382505\n",
      "Epoch 13/100, Loss: 0.06193735300386132\n",
      "Epoch 14/100, Loss: 0.056146413239720604\n",
      "Epoch 15/100, Loss: 0.05268379885848223\n",
      "Epoch 16/100, Loss: 0.04841399774633747\n",
      "Epoch 17/100, Loss: 0.046854184635404014\n",
      "Epoch 18/100, Loss: 0.043600557656936975\n",
      "Epoch 19/100, Loss: 0.034430054112001236\n",
      "Epoch 20/100, Loss: 0.03749148149137246\n",
      "Epoch 21/100, Loss: 0.036658330622352665\n",
      "Epoch 22/100, Loss: 0.03449197123319718\n",
      "Epoch 23/100, Loss: 0.026343284678241853\n",
      "Epoch 24/100, Loss: 0.030868214858867715\n",
      "Epoch 25/100, Loss: 0.02604671057219074\n",
      "Epoch 26/100, Loss: 0.027260219421146304\n",
      "Epoch 27/100, Loss: 0.02257963679955343\n",
      "Epoch 28/100, Loss: 0.02270927983635689\n",
      "Epoch 29/100, Loss: 0.025402076855528057\n",
      "Epoch 30/100, Loss: 0.02005337998016224\n",
      "Epoch 31/100, Loss: 0.0208556246582069\n",
      "Epoch 32/100, Loss: 0.019484105648678602\n",
      "Epoch 33/100, Loss: 0.02052667295817636\n",
      "Epoch 34/100, Loss: 0.018120504987823766\n",
      "Epoch 35/100, Loss: 0.020419971384330916\n",
      "Epoch 36/100, Loss: 0.01970741082641599\n",
      "Epoch 37/100, Loss: 0.017424919740676104\n",
      "Epoch 38/100, Loss: 0.016866695137678252\n",
      "Epoch 39/100, Loss: 0.015788331021875983\n",
      "Epoch 40/100, Loss: 0.020432815948616966\n",
      "Epoch 41/100, Loss: 0.01557552917322926\n",
      "Epoch 42/100, Loss: 0.02075163517209413\n",
      "Epoch 43/100, Loss: 0.012825251554427501\n",
      "Epoch 44/100, Loss: 0.015124953910845257\n",
      "Epoch 45/100, Loss: 0.014776946966109391\n",
      "Epoch 46/100, Loss: 0.012357726607883304\n",
      "Epoch 47/100, Loss: 0.020022824811876967\n",
      "Epoch 48/100, Loss: 0.011999818458821912\n",
      "Epoch 49/100, Loss: 0.014015061902849128\n",
      "Epoch 50/100, Loss: 0.014803569685772363\n",
      "Epoch 51/100, Loss: 0.011077330640495429\n",
      "Epoch 52/100, Loss: 0.012897630455210378\n",
      "Epoch 53/100, Loss: 0.012258808300130871\n",
      "Epoch 54/100, Loss: 0.009930394796455749\n",
      "Epoch 55/100, Loss: 0.009839977983737858\n",
      "Epoch 56/100, Loss: 0.012626990462775604\n",
      "Epoch 57/100, Loss: 0.009245630048826644\n",
      "Epoch 58/100, Loss: 0.010166772861363188\n",
      "Epoch 59/100, Loss: 0.008710637698722493\n",
      "Epoch 60/100, Loss: 0.009170999572850504\n",
      "Epoch 61/100, Loss: 0.00881471394815871\n",
      "Epoch 62/100, Loss: 0.010691576696286191\n",
      "Epoch 63/100, Loss: 0.009255447592939078\n",
      "Epoch 64/100, Loss: 0.010712003611554565\n",
      "Early stopping due to no improvement in Loss.\n"
     ]
    },
    {
     "data": {
      "image/png": "[encoded data removed]",
      "text/plain": [
       "<Figure size 640x480 with 1 Axes>"
      ]
     },
     "metadata": {},
     "output_type": "display_data"
    }
   ],
   "source": [
    "dnn = retropropagation(X, y, dnn, epochs=100, learning_rate=0.1, batch_size=32)"
   ]
  },
  {
   "cell_type": "code",
   "execution_count": 13,
   "metadata": {},
   "outputs": [],
   "source": [
    "def test_dnn(X, y, dnn, verbose=False):\n",
    "    _, proba_sortie = entree_sortie_reseau(dnn, X)\n",
    "    predictions = np.argmax(proba_sortie, axis=1)\n",
    "    accuracy = np.mean(predictions == y)\n",
    "    if verbose :\n",
    "        print(f\"Accuracy: {accuracy}\")\n",
    "    return accuracy"
   ]
  },
  {
   "cell_type": "code",
   "execution_count": 14,
   "metadata": {},
   "outputs": [],
   "source": [
    "def box_plot_proba(data, dnn, k, save_path=None):\n",
    "    _, proba_sortie = entree_sortie_reseau(dnn, data)\n",
    "    plt.figure()\n",
    "    sns.boxplot(data=proba_sortie)\n",
    "    plt.xlabel(\"Classes\")\n",
    "    plt.ylabel(\"Predicted probability\")\n",
    "    plt.title(\"Distribution of probabilities of the class {k}\")\n",
    "    if save_path:\n",
    "        plt.savefig(save_path, dpi=300, bbox_inches='tight')\n",
    "    plt.show(block=False)\n",
    "    plt.close()"
   ]
  }
 ],
 "metadata": {
  "kernelspec": {
   "display_name": "Python [conda env:MLenv] *",
   "language": "python",
   "name": "conda-env-MLenv-py"
  },
  "language_info": {
   "codemirror_mode": {
    "name": "ipython",
    "version": 3
   },
   "file_extension": ".py",
   "mimetype": "text/x-python",
   "name": "python",
   "nbconvert_exporter": "python",
   "pygments_lexer": "ipython3",
   "version": "3.9.7"
  }
 },
 "nbformat": 4,
 "nbformat_minor": 4
}
